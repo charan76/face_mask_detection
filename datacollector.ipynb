{
 "cells": [
  {
   "cell_type": "code",
   "execution_count": null,
   "id": "f264d515",
   "metadata": {},
   "outputs": [],
   "source": [
    "# for creating a data set for with mask and without mask\n",
    "\n",
    "import cv2 \n",
    "\n",
    "video=cv2.VideoCapture(0)\n",
    "\n",
    "#facedetect=cv.CascadeClassifier('haarcascade_frontalface_default (1).xml')\n",
    "facedetect = cv2.CascadeClassifier(cv2.data.haarcascades + 'haarcascade_frontalface_default.xml')\n",
    "count=0\n",
    "\n",
    "while True:\n",
    "\tret,frame=video.read()\n",
    "\tfaces=facedetect.detectMultiScale(frame,1.3, 5)\n",
    "\tfor x,y,w,h in faces:\n",
    "\t\tcount=count+1\n",
    "\t\tname='./dataset/with_mask/'+ str(count) + '.jpg'  # it is for with mask \n",
    "\t\tprint(\"Creating Images.........\" +name)\n",
    "\t\tcv2.imwrite(name, frame[y:y+h,x:x+w])\n",
    "\t\tcv2.rectangle(frame, (x,y), (x+w, y+h), (0,255,0), 3)\n",
    "\tcv2.imshow(\"WindowFrame\", frame)\n",
    "\tcv2.waitKey(1)\n",
    "\tif count>500:\n",
    "\t\tbreak\n",
    "video.release()\n",
    "cv2.destroyAllWindows()"
   ]
  },
  {
   "cell_type": "code",
   "execution_count": null,
   "id": "389db7d2",
   "metadata": {},
   "outputs": [],
   "source": [
    "import cv2 \n",
    "\n",
    "video=cv2.VideoCapture(0)\n",
    "\n",
    "#facedetect=cv.CascadeClassifier('haarcascade_frontalface_default (1).xml')\n",
    "facedetect = cv2.CascadeClassifier(cv2.data.haarcascades + 'haarcascade_frontalface_default.xml')\n",
    "count=0\n",
    "\n",
    "while True:\n",
    "\tret,frame=video.read()\n",
    "\tfaces=facedetect.detectMultiScale(frame,1.3, 5)\n",
    "\tfor x,y,w,h in faces:\n",
    "\t\tcount=count+1\n",
    "\t\tname='./dataset/without_mask/'+ str(count) + '.jpg'  # without mask \n",
    "\t\tprint(\"Creating Images.........\" +name)\n",
    "\t\tcv2.imwrite(name, frame[y:y+h,x:x+w])\n",
    "\t\tcv2.rectangle(frame, (x,y), (x+w, y+h), (0,255,0), 3)\n",
    "\tcv2.imshow(\"WindowFrame\", frame)\n",
    "\tcv2.waitKey(1)\n",
    "\tif count>500:\n",
    "\t\tbreak\n",
    "video.release()\n",
    "cv2.destroyAllWindows()"
   ]
  }
 ],
 "metadata": {
  "kernelspec": {
   "display_name": "Python 3 (ipykernel)",
   "language": "python",
   "name": "python3"
  },
  "language_info": {
   "codemirror_mode": {
    "name": "ipython",
    "version": 3
   },
   "file_extension": ".py",
   "mimetype": "text/x-python",
   "name": "python",
   "nbconvert_exporter": "python",
   "pygments_lexer": "ipython3",
   "version": "3.9.7"
  }
 },
 "nbformat": 4,
 "nbformat_minor": 5
}
